{
 "cells": [
  {
   "cell_type": "code",
   "execution_count": 6,
   "id": "b40501a7-997c-43ee-ba08-7677af194c5d",
   "metadata": {},
   "outputs": [],
   "source": [
    "import torch\n",
    "from datasets import load_dataset\n",
    "from transformers import (\n",
    "    RobertaTokenizerFast,\n",
    "    RobertaForSequenceClassification,\n",
    "    TrainingArguments,\n",
    "    Trainer,\n",
    "    AutoConfig,\n",
    "    pipeline\n",
    ")"
   ]
  },
  {
   "cell_type": "code",
   "execution_count": 13,
   "id": "8a580a73-68f3-4d58-bd3f-3ceadcba0401",
   "metadata": {},
   "outputs": [],
   "source": [
    "model_id=\"FacebookAI/roberta-base\"\n",
    "# relace the value with your model: ex <hugging-face-user>/<model-name>"
   ]
  },
  {
   "cell_type": "code",
   "execution_count": 12,
   "id": "00936cd1-9fd4-4662-9733-2d3976167899",
   "metadata": {},
   "outputs": [
    {
     "data": {
      "application/vnd.jupyter.widget-view+json": {
       "model_id": "6d3a17a997384f19a4ced61b4c2bdbd0",
       "version_major": 2,
       "version_minor": 0
      },
      "text/plain": [
       "config.json:   0%|          | 0.00/481 [00:00<?, ?B/s]"
      ]
     },
     "metadata": {},
     "output_type": "display_data"
    },
    {
     "data": {
      "application/vnd.jupyter.widget-view+json": {
       "model_id": "a5244bfcc593412194ee3b99a565c1f5",
       "version_major": 2,
       "version_minor": 0
      },
      "text/plain": [
       "model.safetensors:   0%|          | 0.00/499M [00:00<?, ?B/s]"
      ]
     },
     "metadata": {},
     "output_type": "display_data"
    },
    {
     "name": "stderr",
     "output_type": "stream",
     "text": [
      "Some weights of RobertaForSequenceClassification were not initialized from the model checkpoint at FacebookAI/roberta-base and are newly initialized: ['classifier.dense.bias', 'classifier.dense.weight', 'classifier.out_proj.bias', 'classifier.out_proj.weight']\n",
      "You should probably TRAIN this model on a down-stream task to be able to use it for predictions and inference.\n"
     ]
    },
    {
     "data": {
      "application/vnd.jupyter.widget-view+json": {
       "model_id": "17f28c1bd9374123bf6faa041d1a76a7",
       "version_major": 2,
       "version_minor": 0
      },
      "text/plain": [
       "tokenizer_config.json:   0%|          | 0.00/25.0 [00:00<?, ?B/s]"
      ]
     },
     "metadata": {},
     "output_type": "display_data"
    },
    {
     "data": {
      "application/vnd.jupyter.widget-view+json": {
       "model_id": "e5572c177b6f42039a137e8ba54e9462",
       "version_major": 2,
       "version_minor": 0
      },
      "text/plain": [
       "vocab.json:   0%|          | 0.00/899k [00:00<?, ?B/s]"
      ]
     },
     "metadata": {},
     "output_type": "display_data"
    },
    {
     "data": {
      "application/vnd.jupyter.widget-view+json": {
       "model_id": "7b12a4c771244e2886a1cbf1afbb0a15",
       "version_major": 2,
       "version_minor": 0
      },
      "text/plain": [
       "merges.txt:   0%|          | 0.00/456k [00:00<?, ?B/s]"
      ]
     },
     "metadata": {},
     "output_type": "display_data"
    },
    {
     "data": {
      "application/vnd.jupyter.widget-view+json": {
       "model_id": "58770d7a41ac49cfafbb44d0ee0613c1",
       "version_major": 2,
       "version_minor": 0
      },
      "text/plain": [
       "tokenizer.json:   0%|          | 0.00/1.36M [00:00<?, ?B/s]"
      ]
     },
     "metadata": {},
     "output_type": "display_data"
    },
    {
     "name": "stderr",
     "output_type": "stream",
     "text": [
      "Device set to use cuda:0\n"
     ]
    }
   ],
   "source": [
    "classifier= pipeline('text-classification', model=model_id)"
   ]
  },
  {
   "cell_type": "code",
   "execution_count": 20,
   "id": "6663f0b9-d2dc-46d9-bc62-60cd6ceab00e",
   "metadata": {},
   "outputs": [
    {
     "data": {
      "text/plain": [
       "[{'label': 'LABEL_1', 'score': 0.5726537704467773}]"
      ]
     },
     "execution_count": 20,
     "metadata": {},
     "output_type": "execute_result"
    }
   ],
   "source": [
    "classifier(\"HELLO!!\")"
   ]
  },
  {
   "cell_type": "code",
   "execution_count": 87,
   "id": "4e7d8238-3a00-4fc3-aa2a-3fb5c2b5b7d4",
   "metadata": {},
   "outputs": [],
   "source": [
    "import pandas as pd\n",
    "df1 = pd.read_csv(\"./jira_scrum_role_dataset.csv\")\n",
    "df2 = pd.read_csv(\"./role_classification_dataset_long.csv\")"
   ]
  },
  {
   "cell_type": "code",
   "execution_count": 89,
   "id": "4444787e-290a-4cde-ba70-debcbdf58723",
   "metadata": {},
   "outputs": [],
   "source": [
    "dataset = pd.concat([df1,df2], ignore_index=True)"
   ]
  },
  {
   "cell_type": "code",
   "execution_count": 90,
   "id": "4910a2c9-e300-43dd-a78e-ea2c91e3c6bb",
   "metadata": {},
   "outputs": [
    {
     "data": {
      "text/html": [
       "<div>\n",
       "<style scoped>\n",
       "    .dataframe tbody tr th:only-of-type {\n",
       "        vertical-align: middle;\n",
       "    }\n",
       "\n",
       "    .dataframe tbody tr th {\n",
       "        vertical-align: top;\n",
       "    }\n",
       "\n",
       "    .dataframe thead th {\n",
       "        text-align: right;\n",
       "    }\n",
       "</style>\n",
       "<table border=\"1\" class=\"dataframe\">\n",
       "  <thead>\n",
       "    <tr style=\"text-align: right;\">\n",
       "      <th></th>\n",
       "      <th>description</th>\n",
       "      <th>role</th>\n",
       "    </tr>\n",
       "  </thead>\n",
       "  <tbody>\n",
       "    <tr>\n",
       "      <th>0</th>\n",
       "      <td>Implement responsive UI using React: Implement...</td>\n",
       "      <td>FrontEndEngineer</td>\n",
       "    </tr>\n",
       "    <tr>\n",
       "      <th>1</th>\n",
       "      <td>Add new components to the dashboard: Add new c...</td>\n",
       "      <td>FrontEndEngineer</td>\n",
       "    </tr>\n",
       "    <tr>\n",
       "      <th>2</th>\n",
       "      <td>Add new components to the dashboard: Add new c...</td>\n",
       "      <td>FrontEndEngineer</td>\n",
       "    </tr>\n",
       "    <tr>\n",
       "      <th>3</th>\n",
       "      <td>Fix CSS styling issues for mobile view: Fix CS...</td>\n",
       "      <td>FrontEndEngineer</td>\n",
       "    </tr>\n",
       "    <tr>\n",
       "      <th>4</th>\n",
       "      <td>Add new components to the dashboard: Add new c...</td>\n",
       "      <td>FrontEndEngineer</td>\n",
       "    </tr>\n",
       "    <tr>\n",
       "      <th>...</th>\n",
       "      <td>...</td>\n",
       "      <td>...</td>\n",
       "    </tr>\n",
       "    <tr>\n",
       "      <th>6995</th>\n",
       "      <td>Scale bleeding-edge web-readiness. Develop new...</td>\n",
       "      <td>FrontEndEngineer</td>\n",
       "    </tr>\n",
       "    <tr>\n",
       "      <th>6996</th>\n",
       "      <td>Revolutionize scalable solutions. Configure al...</td>\n",
       "      <td>DevOpsEngineer</td>\n",
       "    </tr>\n",
       "    <tr>\n",
       "      <th>6997</th>\n",
       "      <td>Syndicate customized paradigms. Improve access...</td>\n",
       "      <td>FrontEndEngineer</td>\n",
       "    </tr>\n",
       "    <tr>\n",
       "      <th>6998</th>\n",
       "      <td>Incubate mission-critical architectures. Fix b...</td>\n",
       "      <td>BackendEngineer</td>\n",
       "    </tr>\n",
       "    <tr>\n",
       "      <th>6999</th>\n",
       "      <td>Aggregate vertical communities. Optimize the S...</td>\n",
       "      <td>BackendEngineer</td>\n",
       "    </tr>\n",
       "  </tbody>\n",
       "</table>\n",
       "<p>7000 rows × 2 columns</p>\n",
       "</div>"
      ],
      "text/plain": [
       "                                            description              role\n",
       "0     Implement responsive UI using React: Implement...  FrontEndEngineer\n",
       "1     Add new components to the dashboard: Add new c...  FrontEndEngineer\n",
       "2     Add new components to the dashboard: Add new c...  FrontEndEngineer\n",
       "3     Fix CSS styling issues for mobile view: Fix CS...  FrontEndEngineer\n",
       "4     Add new components to the dashboard: Add new c...  FrontEndEngineer\n",
       "...                                                 ...               ...\n",
       "6995  Scale bleeding-edge web-readiness. Develop new...  FrontEndEngineer\n",
       "6996  Revolutionize scalable solutions. Configure al...    DevOpsEngineer\n",
       "6997  Syndicate customized paradigms. Improve access...  FrontEndEngineer\n",
       "6998  Incubate mission-critical architectures. Fix b...   BackendEngineer\n",
       "6999  Aggregate vertical communities. Optimize the S...   BackendEngineer\n",
       "\n",
       "[7000 rows x 2 columns]"
      ]
     },
     "execution_count": 90,
     "metadata": {},
     "output_type": "execute_result"
    }
   ],
   "source": [
    "dataset"
   ]
  },
  {
   "cell_type": "code",
   "execution_count": 96,
   "id": "f73d311f-03e9-4399-a705-063fddcc97a0",
   "metadata": {},
   "outputs": [],
   "source": [
    "dataset_y = dataset['role']\n",
    "dataset.drop(['role'], inplace=True, axis = 1)"
   ]
  },
  {
   "cell_type": "code",
   "execution_count": 98,
   "id": "f394b430-e492-49ca-bb71-472e86cf3ce8",
   "metadata": {},
   "outputs": [
    {
     "data": {
      "text/plain": [
       "0       FrontEndEngineer\n",
       "1       FrontEndEngineer\n",
       "2       FrontEndEngineer\n",
       "3       FrontEndEngineer\n",
       "4       FrontEndEngineer\n",
       "              ...       \n",
       "6995    FrontEndEngineer\n",
       "6996      DevOpsEngineer\n",
       "6997    FrontEndEngineer\n",
       "6998     BackendEngineer\n",
       "6999     BackendEngineer\n",
       "Name: role, Length: 7000, dtype: object"
      ]
     },
     "execution_count": 98,
     "metadata": {},
     "output_type": "execute_result"
    }
   ],
   "source": [
    "dataset_y"
   ]
  },
  {
   "cell_type": "code",
   "execution_count": 93,
   "id": "d9fb2d7c-da32-41b6-b5a9-cebf1b515fd6",
   "metadata": {},
   "outputs": [],
   "source": [
    "from sklearn.model_selection import train_test_split"
   ]
  },
  {
   "cell_type": "code",
   "execution_count": 99,
   "id": "368ab00d-ad17-41b2-b28a-8fe566df71d4",
   "metadata": {},
   "outputs": [],
   "source": [
    "X_train, X_test, y_train, y_test = train_test_split(dataset, dataset_y, test_size=0.33, random_state=42)"
   ]
  },
  {
   "cell_type": "code",
   "execution_count": 121,
   "id": "335dfab0-04fb-4870-8e27-2c1436c5b23a",
   "metadata": {},
   "outputs": [
    {
     "data": {
      "text/plain": [
       "array(['CloudEngineer', 'DevOpsEngineer', 'AIEngineer',\n",
       "       'DatabaseDesignEngineer', 'BackendEngineer', 'FrontEndEngineer'],\n",
       "      dtype=object)"
      ]
     },
     "execution_count": 121,
     "metadata": {},
     "output_type": "execute_result"
    }
   ],
   "source": [
    "X_train, y_train\n",
    "# y_train.unique()"
   ]
  },
  {
   "cell_type": "markdown",
   "id": "a71c16c7-3c28-4253-8c23-e164aa59d694",
   "metadata": {},
   "source": [
    "## Preprocessing"
   ]
  },
  {
   "cell_type": "code",
   "execution_count": 122,
   "id": "4907db25-2368-4cae-89ed-8de97a707738",
   "metadata": {},
   "outputs": [],
   "source": [
    "cols = ['CloudEngineer', 'DevOpsEngineer', 'AIEngineer',\n",
    "       'DatabaseDesignEngineer', 'BackendEngineer', 'FrontEndEngineer']"
   ]
  },
  {
   "cell_type": "code",
   "execution_count": 124,
   "id": "308b0a4d-a645-4129-a752-2dc0286c98f9",
   "metadata": {},
   "outputs": [
    {
     "ename": "ValueError",
     "evalue": "too many dimensions 'str'",
     "output_type": "error",
     "traceback": [
      "\u001b[1;31m---------------------------------------------------------------------------\u001b[0m",
      "\u001b[1;31mValueError\u001b[0m                                Traceback (most recent call last)",
      "Cell \u001b[1;32mIn[124], line 41\u001b[0m\n\u001b[0;32m     38\u001b[0m         \u001b[38;5;28;01mreturn\u001b[39;00m \u001b[38;5;28mlen\u001b[39m(\u001b[38;5;28mself\u001b[39m\u001b[38;5;241m.\u001b[39mlabels)\n\u001b[0;32m     40\u001b[0m \u001b[38;5;66;03m# 6. Prepare the dataset\u001b[39;00m\n\u001b[1;32m---> 41\u001b[0m train_dataset \u001b[38;5;241m=\u001b[39m \u001b[43mRoleDataset\u001b[49m\u001b[43m(\u001b[49m\u001b[43mencodings\u001b[49m\u001b[43m,\u001b[49m\u001b[43m \u001b[49m\u001b[43mcols\u001b[49m\u001b[43m)\u001b[49m\n",
      "Cell \u001b[1;32mIn[124], line 30\u001b[0m, in \u001b[0;36mRoleDataset.__init__\u001b[1;34m(self, encodings, labels)\u001b[0m\n\u001b[0;32m     28\u001b[0m \u001b[38;5;28;01mdef\u001b[39;00m\u001b[38;5;250m \u001b[39m\u001b[38;5;21m__init__\u001b[39m(\u001b[38;5;28mself\u001b[39m, encodings, labels):\n\u001b[0;32m     29\u001b[0m     \u001b[38;5;28mself\u001b[39m\u001b[38;5;241m.\u001b[39mencodings \u001b[38;5;241m=\u001b[39m encodings\n\u001b[1;32m---> 30\u001b[0m     \u001b[38;5;28mself\u001b[39m\u001b[38;5;241m.\u001b[39mlabels \u001b[38;5;241m=\u001b[39m \u001b[43mtorch\u001b[49m\u001b[38;5;241;43m.\u001b[39;49m\u001b[43mtensor\u001b[49m\u001b[43m(\u001b[49m\u001b[43mlabels\u001b[49m\u001b[43m)\u001b[49m\n",
      "\u001b[1;31mValueError\u001b[0m: too many dimensions 'str'"
     ]
    }
   ],
   "source": [
    "from transformers import RobertaTokenizerFast\n",
    "from sklearn.preprocessing import LabelEncoder\n",
    "import torch\n",
    "from torch.utils.data import Dataset\n",
    "\n",
    "# 1. Convert DataFrame columns to lists\n",
    "texts = X_train.iloc[:, 0].tolist()  # or X_train['description'].tolist() if named\n",
    "labels = cols  # or Y_train['role'].tolist()\n",
    "\n",
    "# 2. Encode labels (e.g., 'AIEngineer' → 0, etc.)\n",
    "label_encoder = LabelEncoder()\n",
    "encoded_labels = label_encoder.fit_transform(labels)\n",
    "\n",
    "# 3. Initialize tokenizer\n",
    "tokenizer = RobertaTokenizerFast.from_pretrained(model_id)\n",
    "\n",
    "# 4. Tokenize texts\n",
    "encodings = tokenizer(\n",
    "    texts,\n",
    "    padding='max_length',\n",
    "    truncation=True,\n",
    "    max_length=256,\n",
    "    return_tensors='pt'\n",
    ")\n",
    "\n",
    "# 5. Create custom Dataset class\n",
    "class RoleDataset(Dataset):\n",
    "    def __init__(self, encodings, labels):\n",
    "        self.encodings = encodings\n",
    "        self.labels = torch.tensor(labels)\n",
    "\n",
    "    def __getitem__(self, idx):\n",
    "        item = {key: val[idx] for key, val in self.encodings.items()}\n",
    "        item['labels'] = self.labels[idx]\n",
    "        return item\n",
    "\n",
    "    def __len__(self):\n",
    "        return len(self.labels)\n",
    "\n",
    "# 6. Prepare the dataset\n",
    "train_dataset = RoleDataset(encodings, cols)\n"
   ]
  },
  {
   "cell_type": "code",
   "execution_count": 117,
   "id": "e04fb35e-6b6e-4fed-a30f-da6a818dad4b",
   "metadata": {},
   "outputs": [
    {
     "data": {
      "text/plain": [
       "6842    [input_ids, attention_mask]\n",
       "2103    [input_ids, attention_mask]\n",
       "5500    [input_ids, attention_mask]\n",
       "2646    [input_ids, attention_mask]\n",
       "3739    [input_ids, attention_mask]\n",
       "                   ...             \n",
       "3772    [input_ids, attention_mask]\n",
       "5191    [input_ids, attention_mask]\n",
       "5226    [input_ids, attention_mask]\n",
       "5390    [input_ids, attention_mask]\n",
       "860     [input_ids, attention_mask]\n",
       "Name: description, Length: 4690, dtype: object"
      ]
     },
     "execution_count": 117,
     "metadata": {},
     "output_type": "execute_result"
    }
   ],
   "source": []
  }
 ],
 "metadata": {
  "kernelspec": {
   "display_name": "Python 3 (ipykernel)",
   "language": "python",
   "name": "python3"
  },
  "language_info": {
   "codemirror_mode": {
    "name": "ipython",
    "version": 3
   },
   "file_extension": ".py",
   "mimetype": "text/x-python",
   "name": "python",
   "nbconvert_exporter": "python",
   "pygments_lexer": "ipython3",
   "version": "3.13.2"
  }
 },
 "nbformat": 4,
 "nbformat_minor": 5
}
